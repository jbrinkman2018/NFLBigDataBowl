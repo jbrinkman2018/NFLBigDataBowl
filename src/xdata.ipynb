{
 "cells": [
  {
   "cell_type": "code",
   "execution_count": 1,
   "metadata": {},
   "outputs": [],
   "source": [
    "import nbimporter\n",
    "from my_test import load_and_display_heads, reduce_tracking_data_direct\n",
    "game_data, play_data, player_play_data, player_data, tracking_data = load_and_display_heads()\n",
    "reduced_tracking_data = reduce_tracking_data_direct(tracking_data, 30)"
   ]
  },
  {
   "cell_type": "code",
   "execution_count": 2,
   "metadata": {},
   "outputs": [],
   "source": [
    "play_data = play_data.merge(reduced_tracking_data, on='playId', how='left')\n",
    "# print(play_data)"
   ]
  },
  {
   "cell_type": "code",
   "execution_count": 1,
   "metadata": {},
   "outputs": [],
   "source": [
    "import pandas as pd\n",
    "import numpy as np\n",
    "from sklearn.preprocessing import StandardScaler\n",
    "\n",
    "def generate_x_data(data):\n",
    "    \n",
    "    x_data = []\n",
    "    # Step 2: Normalize numerical features (e.g., x, y, speed, acceleration)\n",
    "    numerical_columns = ['x', 'y', 's', 'a', 'yardsToGo', 'down', 'preSnapHomeScore', 'preSnapVisitorScore', 'quarter']\n",
    "    scaler = StandardScaler()\n",
    "    data[numerical_columns] = scaler.fit_transform(data[numerical_columns])\n",
    "\n",
    "    # Step 3: One-hot encode categorical features (playDirection, event, position)\n",
    "    # data = pd.get_dummies(data, columns=['playDirection', 'event', 'position'], drop_first=False)\n",
    "    \n",
    "    # Step 4: Handle missing values (e.g., filling with zeros)\n",
    "    data = data.fillna(0)\n",
    "    \n",
    "    # Iterate through plays\n",
    "    for play_id, play_df in data.groupby(\"playId\"):\n",
    "        for _, play_info in play_df.iterrows():\n",
    "            \n",
    "            # Extract situation features\n",
    "            situation_features = {\n",
    "                \"down\": play_info[\"down\"],\n",
    "                \"distance\": play_info[\"yardsToGo\"],\n",
    "                \"score_differential\": play_info[\"preSnapHomeScore\"] - play_info[\"preSnapVisitorScore\"],\n",
    "                \"quarter\": play_info[\"quarter\"],\n",
    "                # \"game_clock\": play_info[\"gameClock\"]\n",
    "            }\n",
    "\n",
    "            # Get player tracking data at the snap\n",
    "            # snap_frame = play_df[play_df[\"frameType\"] == \"SNAP\"]\n",
    "            # if snap_frame.empty:\n",
    "            #     continue\n",
    "            # for _, row in snap_frame.iterrows():\n",
    "            player_features = {\n",
    "                \"x\": play_info[\"x\"],\n",
    "                \"y\": play_info[\"y\"],\n",
    "                \"s\": play_info[\"s\"],\n",
    "                \"dir\": play_info[\"dir\"],\n",
    "                \"o\": play_info[\"o\"],\n",
    "                \"team\": play_info[\"club\"],\n",
    "                # \"player_role\": play_info[\"position\"]\n",
    "            }\n",
    "            # Create X (features) for the play\n",
    "            x_data.append({\n",
    "                \"situation\": situation_features,\n",
    "                \"players\": player_features\n",
    "            })\n",
    "    return x_data"
   ]
  },
  {
   "cell_type": "code",
   "execution_count": null,
   "metadata": {},
   "outputs": [],
   "source": [
    "data = play_data\n",
    "x_data = generate_x_data(data)\n",
    "# print(x_data)"
   ]
  }
 ],
 "metadata": {
  "kernelspec": {
   "display_name": "Python 3",
   "language": "python",
   "name": "python3"
  },
  "language_info": {
   "codemirror_mode": {
    "name": "ipython",
    "version": 3
   },
   "file_extension": ".py",
   "mimetype": "text/x-python",
   "name": "python",
   "nbconvert_exporter": "python",
   "pygments_lexer": "ipython3",
   "version": "3.11.4"
  }
 },
 "nbformat": 4,
 "nbformat_minor": 2
}
